{
 "cells": [
  {
   "cell_type": "code",
   "execution_count": 1,
   "metadata": {},
   "outputs": [
    {
     "name": "stderr",
     "output_type": "stream",
     "text": [
      "INFO:pypsa.io:Imported network base_s_39_lvopt___2050.nc has buses, carriers, generators, global_constraints, lines, links, loads, storage_units, stores\n"
     ]
    }
   ],
   "source": [
    "import pypsa\n",
    "import matplotlib.pyplot as plt\n",
    "plt.style.use('bmh')\n",
    "%matplotlib inline\n",
    "\n",
    "n = pypsa.Network(\"../../datasource/base_s_39_lvopt___2050.nc\")"
   ]
  },
  {
   "cell_type": "code",
   "execution_count": 64,
   "metadata": {},
   "outputs": [],
   "source": [
    "n.buses['id'] = n.buses.index\n",
    "n.buses.to_json('buses.json', orient='index', indent=4, index=True)\n"
   ]
  },
  {
   "cell_type": "code",
   "execution_count": 26,
   "metadata": {},
   "outputs": [],
   "source": [
    "n.generators['id'] = n.generators.index\n",
    "n.generators.to_json('generators.json', orient='index', indent=4, index=True)"
   ]
  },
  {
   "cell_type": "code",
   "execution_count": 70,
   "metadata": {},
   "outputs": [],
   "source": [
    "n.loads['id'] = n.loads.index\n",
    "n.loads.to_json('loads.json', orient='index', indent=4, index=True)"
   ]
  },
  {
   "cell_type": "code",
   "execution_count": 71,
   "metadata": {},
   "outputs": [],
   "source": [
    "n.stores['id'] = n.stores.index\n",
    "n.stores.to_json('stores.json', orient='index', indent=4, index=True)"
   ]
  },
  {
   "cell_type": "code",
   "execution_count": 31,
   "metadata": {},
   "outputs": [],
   "source": [
    "n.storage_units['id'] = n.storage_units.index\n",
    "n.storage_units.to_json('storages.json', orient='index', indent=4, index=True)"
   ]
  },
  {
   "cell_type": "code",
   "execution_count": 32,
   "metadata": {},
   "outputs": [],
   "source": [
    "n.transformers['id'] = n.transformers.index\n",
    "n.transformers.to_json('transformers.json', orient='index', indent=4, index=True)"
   ]
  },
  {
   "cell_type": "code",
   "execution_count": null,
   "metadata": {},
   "outputs": [],
   "source": [
    "n.transformer_types['id'] = n.transformer_types.index\n",
    "n.transformer_types.to_json('transformer_types.json', orient='index', indent=4, index=True)"
   ]
  },
  {
   "cell_type": "code",
   "execution_count": 90,
   "metadata": {},
   "outputs": [],
   "source": [
    "for index, row in n.lines.iterrows():\n",
    "  bus0 = n.buses.loc[row.bus0]\n",
    "  bus1 = n.buses.loc[row.bus1]\n",
    "\n",
    "  n.lines.loc[index,'location0'] = bus0.location\n",
    "  n.lines.loc[index, 'location1'] = bus1.location\n",
    "  n.lines.loc[index, 'id'] = index\n",
    "\n",
    "  if (bus0.location == bus1.location):\n",
    "    n.lines.loc[index, 'location'] = bus0.location\n",
    "  else:\n",
    "     n.lines.loc[index, 'location'] = None\n",
    " \n",
    "n.lines.to_json('lines.json', orient='index', indent=4, index=True)"
   ]
  },
  {
   "cell_type": "code",
   "execution_count": 91,
   "metadata": {},
   "outputs": [],
   "source": [
    "for index, row in n.links.iterrows():\n",
    "  bus0 = n.buses.loc[row.bus0]\n",
    "  bus1 = n.buses.loc[row.bus1]\n",
    "  n.links.loc[index, 'location0'] = bus0.location\n",
    "  n.links.loc[index, 'location1'] = bus1.location\n",
    "  n.links.loc[index, 'id'] = index\n",
    "\n",
    "  if (bus0.location == bus1.location):\n",
    "    n.links.loc[index, 'location'] = bus0.location\n",
    "  else:\n",
    "     n.links.loc[index,'location'] = None\n",
    "\n",
    "n.links.to_json('links.json', orient='index', indent=4, index=True)"
   ]
  }
 ],
 "metadata": {
  "kernelspec": {
   "display_name": "pypsa-eur",
   "language": "python",
   "name": "python3"
  },
  "language_info": {
   "codemirror_mode": {
    "name": "ipython",
    "version": 3
   },
   "file_extension": ".py",
   "mimetype": "text/x-python",
   "name": "python",
   "nbconvert_exporter": "python",
   "pygments_lexer": "ipython3",
   "version": "3.12.7"
  }
 },
 "nbformat": 4,
 "nbformat_minor": 2
}
