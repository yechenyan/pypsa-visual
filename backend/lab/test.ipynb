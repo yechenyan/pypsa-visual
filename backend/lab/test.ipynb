{
 "cells": [
  {
   "cell_type": "code",
   "execution_count": 25,
   "metadata": {},
   "outputs": [
    {
     "name": "stderr",
     "output_type": "stream",
     "text": [
      "INFO:pypsa.io:Imported network base_s_27_lvopt_3H_3H_2045.nc has buses, carriers, generators, global_constraints, lines, links, loads, storage_units, stores\n"
     ]
    }
   ],
   "source": [
    "import pypsa\n",
    "import matplotlib.pyplot as plt\n",
    "plt.style.use('bmh')\n",
    "%matplotlib inline\n",
    "\n",
    "n = pypsa.Network(\"../../datasource/base_s_27_lvopt_3H_3H_2045.nc\")"
   ]
  },
  {
   "cell_type": "code",
   "execution_count": 26,
   "metadata": {},
   "outputs": [],
   "source": [
    "n.buses['id'] = n.buses.index\n",
    "n.buses.to_json('buses.json', orient='index', indent=4, index=True)\n"
   ]
  },
  {
   "cell_type": "code",
   "execution_count": 27,
   "metadata": {},
   "outputs": [],
   "source": [
    "n.generators['id'] = n.generators.index\n",
    "n.generators.to_json('generators.json', orient='index', indent=4, index=True)"
   ]
  },
  {
   "cell_type": "code",
   "execution_count": 28,
   "metadata": {},
   "outputs": [],
   "source": [
    "n.loads['id'] = n.loads.index\n",
    "n.loads.to_json('loads.json', orient='index', indent=4, index=True)"
   ]
  },
  {
   "cell_type": "code",
   "execution_count": 29,
   "metadata": {},
   "outputs": [],
   "source": [
    "n.stores['id'] = n.stores.index\n",
    "n.stores.to_json('stores.json', orient='index', indent=4, index=True)"
   ]
  },
  {
   "cell_type": "code",
   "execution_count": 30,
   "metadata": {},
   "outputs": [],
   "source": [
    "n.storage_units['id'] = n.storage_units.index\n",
    "n.storage_units.to_json('storages.json', orient='index', indent=4, index=True)"
   ]
  },
  {
   "cell_type": "code",
   "execution_count": 31,
   "metadata": {},
   "outputs": [],
   "source": [
    "n.transformers['id'] = n.transformers.index\n",
    "n.transformers.to_json('transformers.json', orient='index', indent=4, index=True)"
   ]
  },
  {
   "cell_type": "code",
   "execution_count": 32,
   "metadata": {},
   "outputs": [],
   "source": [
    "n.transformer_types['id'] = n.transformer_types.index\n",
    "n.transformer_types.to_json('transformer_types.json', orient='index', indent=4, index=True)"
   ]
  },
  {
   "cell_type": "code",
   "execution_count": 33,
   "metadata": {},
   "outputs": [],
   "source": [
    "for index, row in n.lines.iterrows():\n",
    "  bus0 = n.buses.loc[row.bus0]\n",
    "  bus1 = n.buses.loc[row.bus1]\n",
    "\n",
    "  n.lines.loc[index,'location0'] = bus0.location\n",
    "  n.lines.loc[index, 'location1'] = bus1.location\n",
    "  n.lines.loc[index, 'id'] = index\n",
    "\n",
    "  if (bus0.location == bus1.location):\n",
    "    n.lines.loc[index, 'location'] = bus0.location\n",
    "  else:\n",
    "     n.lines.loc[index, 'location'] = None\n",
    " \n",
    "n.lines.to_json('lines.json', orient='index', indent=4, index=True)"
   ]
  },
  {
   "cell_type": "code",
   "execution_count": 34,
   "metadata": {},
   "outputs": [],
   "source": [
    "for index, row in n.links.iterrows():\n",
    "  bus0 = n.buses.loc[row.bus0]\n",
    "  bus1 = n.buses.loc[row.bus1]\n",
    "  n.links.loc[index, 'location0'] = bus0.location\n",
    "  n.links.loc[index, 'location1'] = bus1.location\n",
    "  n.links.loc[index, 'id'] = index\n",
    "\n",
    "  if (bus0.location == bus1.location):\n",
    "    n.links.loc[index, 'location'] = bus0.location\n",
    "  else:\n",
    "     n.links.loc[index,'location'] = None\n",
    "\n",
    "n.links.to_json('links.json', orient='index', indent=4, index=True)"
   ]
  },
  {
   "cell_type": "code",
   "execution_count": 35,
   "metadata": {},
   "outputs": [],
   "source": [
    "import os\n",
    "import shutil\n",
    "\n",
    "def copy_json_files(source_folder, destination_folder):\n",
    "    if not os.path.exists(destination_folder):\n",
    "        os.makedirs(destination_folder)\n",
    "\n",
    "    for item in os.listdir(source_folder):\n",
    "        source_path = os.path.join(source_folder, item)\n",
    "\n",
    "        if os.path.isfile(source_path) and item.endswith('.json'):\n",
    "            destination_path = os.path.join(destination_folder, item)\n",
    "            shutil.copy2(source_path, destination_path)  \n",
    "\n",
    "source_folder = './'\n",
    "destination_folder = '../../frontend/datasource/originData'\n",
    "\n",
    "copy_json_files(source_folder, destination_folder)"
   ]
  },
  {
   "cell_type": "code",
   "execution_count": 36,
   "metadata": {},
   "outputs": [
    {
     "data": {
      "text/plain": [
       "159694.7132252331"
      ]
     },
     "execution_count": 36,
     "metadata": {},
     "output_type": "execute_result"
    }
   ],
   "source": [
    "import pandas as pd\n",
    "pd.set_option('display.max_columns', None)\n",
    "\n",
    "\n",
    "df = n.generators\n",
    "\n",
    "\n",
    "filtered_df = df[\n",
    "    (df['bus'].isin(['DE0 1', 'DE0 2', 'DE0 3', 'DE0 4', 'DE0 5', 'DE0 6', 'DE0 7', 'DE0 0'])) &\n",
    "    (df['carrier'] == 'solar rooftop')\n",
    "]\n",
    "\n",
    "\n",
    "filtered_df = df[\n",
    "    (df['bus'].isin(['DE0 1 low voltage', 'DE0 2 low voltage', 'DE0 3 low voltage', 'DE0 4 low voltage', 'DE0 5 low voltage', 'DE0 6 low voltage', 'DE0 7 low voltage', 'DE0 0 low voltage'])) &\n",
    "    (df['carrier'] == 'solar rooftop')\n",
    "]\n",
    "\n",
    "\n",
    "filtered_df['p_nom_max'].sum()"
   ]
  }
 ],
 "metadata": {
  "kernelspec": {
   "display_name": "pypsa-eur",
   "language": "python",
   "name": "python3"
  },
  "language_info": {
   "codemirror_mode": {
    "name": "ipython",
    "version": 3
   },
   "file_extension": ".py",
   "mimetype": "text/x-python",
   "name": "python",
   "nbconvert_exporter": "python",
   "pygments_lexer": "ipython3",
   "version": "3.12.8"
  }
 },
 "nbformat": 4,
 "nbformat_minor": 2
}
